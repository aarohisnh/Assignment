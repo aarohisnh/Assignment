{
 "cells": [
  {
   "cell_type": "markdown",
   "id": "908c6e26",
   "metadata": {},
   "source": [
    "1 Write a Python Program to implement your own myreduce() function which works exactly  like Python's built-in function reduce() "
   ]
  },
  {
   "cell_type": "code",
   "execution_count": 3,
   "id": "6a9d622e",
   "metadata": {},
   "outputs": [],
   "source": [
    "def myreduce(func, iterable):\n",
    "    \"\"\"\n",
    "    myreduce function is a user-built function version of Python built-in function reduce()\n",
    "    func : takes the function which needs to be applied on the iterable\n",
    "    iterable : list or any iterable object on which cumulative calculation can be performed  \n",
    "    \"\"\"\n",
    "    it = iter(iterable)\n",
    "    for element in it:\n",
    "        result = func(value, element)\n",
    "    return value"
   ]
  },
  {
   "cell_type": "markdown",
   "id": "8704d673",
   "metadata": {},
   "source": [
    "2 Write a Python program to implement your own myfilter() function which works exactly  like Python's built-in function filter() \n"
   ]
  },
  {
   "cell_type": "code",
   "execution_count": 4,
   "id": "f53ba78c",
   "metadata": {},
   "outputs": [],
   "source": [
    "def myfilter(func, iterable):\n",
    "    \"\"\"\n",
    "    myfilter function is a user-built function version of Python built-in function filter()\n",
    "    func : takes the function which needs to be applied on the iterable\n",
    "    iterable : list or any iterable object on which cumulative calculation can be performed  \n",
    "    \"\"\"\n",
    "    result = []\n",
    "    for i in iterable:\n",
    "        if func(i):\n",
    "            result.append(i)\n",
    "    return result"
   ]
  },
  {
   "cell_type": "markdown",
   "id": "35c631d7",
   "metadata": {},
   "source": [
    "2. Implement List comprehensions to produce the following lists.  \n",
    "Write List comprehensions to produce the following Lists :\n",
    "\n",
    "['A', 'C', 'A', 'D', 'G', 'I', ’L’, ‘ D’] \n",
    "\n",
    "['x', 'xx', 'xxx', 'xxxx', 'y', 'yy', 'yyy', 'yyyy', 'z', 'zz', 'zzz', 'zzzz'] \n",
    "\n",
    "['x', 'y', 'z', 'xx', 'yy', 'zz', 'xxx', 'yyy', 'zzz', 'xxxx', 'yyyy', 'zzzz'] \n",
    "\n",
    "[[2], [3], [4], [3], [4], [5], [4], [5], [6]]\n",
    "\n",
    "[[2, 3, 4, 5], [3, 4, 5, 6],  [4, 5, 6, 7], [5, 6, 7, 8]] \n",
    "\n",
    "[(1, 1), (2, 1), (3, 1), (1, 2), (2, 2), (3, 2), (1, 3), (2, 3), (3, 3)]"
   ]
  },
  {
   "cell_type": "code",
   "execution_count": 5,
   "id": "94d450a5",
   "metadata": {},
   "outputs": [
    {
     "name": "stdout",
     "output_type": "stream",
     "text": [
      "['A', 'C', 'A', 'D', 'G', 'I', 'L', 'D']\n"
     ]
    }
   ],
   "source": [
    "str1 = \"ACADGILD\"\n",
    "str_list = [i for i in str1]\n",
    "print(str_list)"
   ]
  },
  {
   "cell_type": "code",
   "execution_count": 7,
   "id": "c2b1b774",
   "metadata": {},
   "outputs": [
    {
     "name": "stdout",
     "output_type": "stream",
     "text": [
      "['x', 'xx', 'xxx', 'xxxx', 'y', 'yy', 'yyy', 'yyyy', 'z', 'zz', 'zzz', 'zzzz']\n"
     ]
    }
   ],
   "source": [
    "str2 = ['x','y','z']\n",
    "str_list = [i*n for i in str2 for n in range(1,5)]\n",
    "print(str_list)"
   ]
  },
  {
   "cell_type": "code",
   "execution_count": 11,
   "id": "79c205e6",
   "metadata": {},
   "outputs": [
    {
     "name": "stdout",
     "output_type": "stream",
     "text": [
      "[[2], [3], [4], [3], [4], [5], [4], [5], [6]]\n"
     ]
    }
   ],
   "source": [
    "num_list = [2, 3, 4]\n",
    "numsum_list = [[i+n] for i in num_list for n in range(0,3)]\n",
    "print(numsum_list)"
   ]
  },
  {
   "cell_type": "code",
   "execution_count": 14,
   "id": "11e10684",
   "metadata": {},
   "outputs": [
    {
     "name": "stdout",
     "output_type": "stream",
     "text": [
      "[[2, 3, 4, 5], [3, 4, 5, 6], [4, 5, 6, 7], [5, 6, 7, 8]]\n"
     ]
    }
   ],
   "source": [
    "num_list = [2, 3, 4, 5]\n",
    "numsum_list = [[i+n for i in num_list] for n in range(0,4)]\n",
    "print(numsum_list)"
   ]
  },
  {
   "cell_type": "code",
   "execution_count": 15,
   "id": "4080345b",
   "metadata": {},
   "outputs": [
    {
     "name": "stdout",
     "output_type": "stream",
     "text": [
      "[(1, 1), (2, 1), (3, 1), (1, 2), (2, 2), (3, 2), (1, 3), (2, 3), (3, 3)]\n"
     ]
    }
   ],
   "source": [
    "pair_list = [1, 2, 3]\n",
    "pairresult_list = [(b, a) for a in pair_list for b in pair_list]\n",
    "print(pairresult_list)"
   ]
  }
 ],
 "metadata": {
  "kernelspec": {
   "display_name": "Python 3",
   "language": "python",
   "name": "python3"
  },
  "language_info": {
   "codemirror_mode": {
    "name": "ipython",
    "version": 3
   },
   "file_extension": ".py",
   "mimetype": "text/x-python",
   "name": "python",
   "nbconvert_exporter": "python",
   "pygments_lexer": "ipython3",
   "version": "3.7.10"
  }
 },
 "nbformat": 4,
 "nbformat_minor": 5
}
