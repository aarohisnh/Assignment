{
 "cells": [
  {
   "cell_type": "markdown",
   "id": "10770350",
   "metadata": {},
   "source": [
    "1. Write a program which accepts a sequence of comma-separated numbers from console  and generate a list. "
   ]
  },
  {
   "cell_type": "code",
   "execution_count": 1,
   "id": "f584facd",
   "metadata": {},
   "outputs": [
    {
     "name": "stdout",
     "output_type": "stream",
     "text": [
      "Enter the comma-separated numbers:2,31,24,24,223,43\n",
      "['2', '31', '24', '24', '223', '43']\n"
     ]
    }
   ],
   "source": [
    "inp = input(\"Enter the comma-separated numbers:\")\n",
    "lst = inp.split(',')\n",
    "print(lst)"
   ]
  },
  {
   "cell_type": "markdown",
   "id": "338a9f80",
   "metadata": {},
   "source": [
    "1. Create the below pattern using nested for loop in Python.\n",
    "\n",
    "        * \n",
    "        * * \n",
    "        * * * \n",
    "        * * * * \n",
    "        * * * * * \n",
    "        * * * * \n",
    "        * * * \n",
    "        * * \n",
    "        * "
   ]
  },
  {
   "cell_type": "code",
   "execution_count": 13,
   "id": "3fea56e0",
   "metadata": {},
   "outputs": [
    {
     "name": "stdout",
     "output_type": "stream",
     "text": [
      "\n",
      "*\n",
      "**\n",
      "***\n",
      "****\n",
      "*****\n",
      "****\n",
      "***\n",
      "**\n",
      "*\n",
      "\n"
     ]
    }
   ],
   "source": [
    "for i in range(6):\n",
    "    for j in range(0,i):\n",
    "        print('*',end = '')\n",
    "    print(end = '\\n')\n",
    "for i in reversed(range(5)):\n",
    "    for j in range(i):\n",
    "        print('*',end = '')\n",
    "    print(end = '\\n')"
   ]
  },
  {
   "cell_type": "markdown",
   "id": "20abe447",
   "metadata": {},
   "source": [
    "2. Write a Python program to reverse a word after accepting the input from the user. \n",
    "\n",
    " **Sample Output:**\n",
    " \n",
    " **Input word:** ineuron\n",
    " \n",
    " **Output word:** norueni"
   ]
  },
  {
   "cell_type": "code",
   "execution_count": 15,
   "id": "618e61ba",
   "metadata": {},
   "outputs": [
    {
     "name": "stdout",
     "output_type": "stream",
     "text": [
      "Enter a word:euro\n",
      "orue\n"
     ]
    }
   ],
   "source": [
    "inp = input('Enter a word:')\n",
    "print(inp[::-1])"
   ]
  }
 ],
 "metadata": {
  "kernelspec": {
   "display_name": "Python 3",
   "language": "python",
   "name": "python3"
  },
  "language_info": {
   "codemirror_mode": {
    "name": "ipython",
    "version": 3
   },
   "file_extension": ".py",
   "mimetype": "text/x-python",
   "name": "python",
   "nbconvert_exporter": "python",
   "pygments_lexer": "ipython3",
   "version": "3.7.10"
  }
 },
 "nbformat": 4,
 "nbformat_minor": 5
}
