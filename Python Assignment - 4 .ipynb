{
 "cells": [
  {
   "cell_type": "markdown",
   "id": "3d2e22c9",
   "metadata": {},
   "source": [
    "1.1 Write a Python Program(with class concepts) to find the area of the triangle using the below  formula. \n",
    "    area = (s*(s-a)*(s-b)*(s-c)) ** 0.5 \n",
    "Function to take the length of the sides of triangle from user should be defined in the parent  class and function to calculate the area should be defined in subclass. "
   ]
  },
  {
   "cell_type": "code",
   "execution_count": 38,
   "id": "6fd9f9a7",
   "metadata": {},
   "outputs": [],
   "source": [
    "class length:\n",
    "    def __init__(self, a, b, c):\n",
    "        self.a = float(a)\n",
    "        self.b = float(b)\n",
    "        self.c = float(c)\n",
    "        \n",
    "class area(length):\n",
    "    def __init(self, *args):\n",
    "        super().__init__(*args)\n",
    "    def cal(self):\n",
    "        s = (self.a + self.b + self.c)/2\n",
    "        return (s*(s - self.a)*(s - self.b)*(s - self.c)) ** 0.5"
   ]
  },
  {
   "cell_type": "code",
   "execution_count": 39,
   "id": "d8d946b7",
   "metadata": {},
   "outputs": [
    {
     "name": "stdout",
     "output_type": "stream",
     "text": [
      "Enter the length of a: 32\n",
      "Enter the length of b: 12\n",
      "Enter the length of c: 32\n"
     ]
    }
   ],
   "source": [
    "a = int(input(\"Enter the length of a: \"))\n",
    "b = int(input(\"Enter the length of b: \"))\n",
    "c = int(input(\"Enter the length of c: \"))\n",
    "\n",
    "l = area(a, b, c)"
   ]
  },
  {
   "cell_type": "code",
   "execution_count": 40,
   "id": "663d596b",
   "metadata": {},
   "outputs": [
    {
     "name": "stdout",
     "output_type": "stream",
     "text": [
      "188.59480374602055\n"
     ]
    }
   ],
   "source": [
    "print(l.cal())"
   ]
  },
  {
   "cell_type": "markdown",
   "id": "2b5290f7",
   "metadata": {},
   "source": [
    "1.2 Write a function filter_long_words() that takes a list of words and an integer n and returns  the list of words that are longer than n. "
   ]
  },
  {
   "cell_type": "code",
   "execution_count": 41,
   "id": "c5e29bd9",
   "metadata": {},
   "outputs": [],
   "source": [
    "def filter_long_words(lst, n):\n",
    "    r = []\n",
    "    for i in range(len(lst)):\n",
    "        if len(lst[i]) > n:\n",
    "            r.append(lst[i])\n",
    "    return r"
   ]
  },
  {
   "cell_type": "code",
   "execution_count": 49,
   "id": "e5642c91",
   "metadata": {},
   "outputs": [
    {
     "name": "stdout",
     "output_type": "stream",
     "text": [
      "Enter the list of words:Apple,Gram,Dog,Cat\n"
     ]
    }
   ],
   "source": [
    "words = input(\"Enter the list of words:\").split(',')"
   ]
  },
  {
   "cell_type": "code",
   "execution_count": 51,
   "id": "e9c5135f",
   "metadata": {},
   "outputs": [
    {
     "name": "stdout",
     "output_type": "stream",
     "text": [
      "Enter the number: 3\n"
     ]
    }
   ],
   "source": [
    "num = int(input(\"Enter the number: \"))"
   ]
  },
  {
   "cell_type": "code",
   "execution_count": 52,
   "id": "f3fbb18c",
   "metadata": {},
   "outputs": [
    {
     "data": {
      "text/plain": [
       "['Apple', 'Gram']"
      ]
     },
     "execution_count": 52,
     "metadata": {},
     "output_type": "execute_result"
    }
   ],
   "source": [
    "filter_long_words(words, num)"
   ]
  },
  {
   "cell_type": "markdown",
   "id": "2163b39b",
   "metadata": {},
   "source": [
    "2.1 Write a Python program using function concept that maps list of words into a list of integers  representing the lengths of the corresponding words. \n",
    "Hint: If a list [ab,cde,erty] is passed on to the python function output should come as [2,3,4] Here 2,3 and 4 are the lengths of the words in the list. "
   ]
  },
  {
   "cell_type": "code",
   "execution_count": 53,
   "id": "63d5a33a",
   "metadata": {},
   "outputs": [],
   "source": [
    "def word_to_num(lst):\n",
    "    result = []\n",
    "    for i in range(len(lst)):\n",
    "        result.append(len(lst[i]))\n",
    "    return result"
   ]
  },
  {
   "cell_type": "code",
   "execution_count": 55,
   "id": "c20fd059",
   "metadata": {},
   "outputs": [
    {
     "name": "stdout",
     "output_type": "stream",
     "text": [
      "[5, 4, 3, 3]\n"
     ]
    }
   ],
   "source": [
    "print(word_to_num(words))"
   ]
  },
  {
   "cell_type": "markdown",
   "id": "263217f7",
   "metadata": {},
   "source": [
    "2.2 Write a Python function which takes a character (i.e. a string of length 1) and returns True if  it is a vowel, False otherwise. "
   ]
  },
  {
   "cell_type": "code",
   "execution_count": 60,
   "id": "98719a4f",
   "metadata": {},
   "outputs": [
    {
     "name": "stdout",
     "output_type": "stream",
     "text": [
      "True\n",
      "False\n"
     ]
    }
   ],
   "source": [
    "def check_vowel(a):\n",
    "    vowel = 'aeiou'\n",
    "    return a.lower() in vowel\n",
    "print(check_vowel('a'))\n",
    "print(check_vowel('b'))"
   ]
  },
  {
   "cell_type": "code",
   "execution_count": null,
   "id": "8da85a1a",
   "metadata": {},
   "outputs": [],
   "source": []
  }
 ],
 "metadata": {
  "kernelspec": {
   "display_name": "Python 3",
   "language": "python",
   "name": "python3"
  },
  "language_info": {
   "codemirror_mode": {
    "name": "ipython",
    "version": 3
   },
   "file_extension": ".py",
   "mimetype": "text/x-python",
   "name": "python",
   "nbconvert_exporter": "python",
   "pygments_lexer": "ipython3",
   "version": "3.7.10"
  }
 },
 "nbformat": 4,
 "nbformat_minor": 5
}
