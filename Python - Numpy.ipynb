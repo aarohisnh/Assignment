{
 "cells": [
  {
   "cell_type": "markdown",
   "id": "3caf74b9",
   "metadata": {},
   "source": [
    "**Problem Statement 1:**\n",
    "\n",
    "Write a function so that the columns of the output matrix are powers of the input vector. \n",
    "The order of the powers is determined by the increasing boolean argument. Specifically, when  increasing is False, the i-th output column is the input vector raised element-wise to the power  of N - i - 1. \n",
    "\n",
    "**HINT:** Such a matrix with a geometric progression in each row is named for Alexandre Theophile Vandermonde. "
   ]
  },
  {
   "cell_type": "code",
   "execution_count": 1,
   "id": "d9d2f718",
   "metadata": {},
   "outputs": [],
   "source": [
    "import numpy as np"
   ]
  },
  {
   "cell_type": "code",
   "execution_count": 7,
   "id": "f93f76bc",
   "metadata": {},
   "outputs": [],
   "source": [
    "def matrix_generator(vector, n, inc=False):\n",
    "    if not inc:\n",
    "        op_matx = np.array([x**(n-1-i) for x in vector for i in range(n)]).reshape(len(input_vec),n)\n",
    "    elif inc:\n",
    "        op_matx = np.array([x**i for x in vector for i in range(n)]).reshape(len(input_vec),n)\n",
    "    return op_matx"
   ]
  },
  {
   "cell_type": "code",
   "execution_count": 8,
   "id": "f25ee064",
   "metadata": {},
   "outputs": [
    {
     "name": "stdout",
     "output_type": "stream",
     "text": [
      "[[ 1  1  1]\n",
      " [ 4  2  1]\n",
      " [ 9  3  1]\n",
      " [16  4  1]]\n"
     ]
    }
   ],
   "source": [
    "input_vec = [1, 2, 3, 4]\n",
    "print(matrix_generator(input_vec,3))"
   ]
  },
  {
   "cell_type": "markdown",
   "id": "656cc90e",
   "metadata": {},
   "source": [
    "**Problem Statement 2:**\n",
    "\n",
    "Given a sequence of n values x1, x2, ..., xn and a window size k>0, the k-th moving average of  the given sequence is defined as follows: \n",
    "\n",
    "The moving average sequence has n-k+1 elements as shown below. \n",
    "\n",
    "The moving averages with k=4 of a ten-value sequence (n=10) is shown below \n",
    "\n",
    "i 1 2 3 4 5 6 7 8 9 10 \n",
    "\n",
    "===== == == == == == == == == == ==\n",
    "\n",
    "Input 10 20 30 40 50 60 70 80 90 100\n",
    "\n",
    "y1 25 = (10+20+30+40)/4 \n",
    "\n",
    "y2 35 = (20+30+40+50)/4 \n",
    "\n",
    "y3 45 = (30+40+50+60)/4 \n",
    "\n",
    "y4 55 = (40+50+60+70)/4 \n",
    "\n",
    "y5 65 = (50+60+70+80)/4 \n",
    "\n",
    "y6 75 = (60+70+80+90)/4 \n",
    "\n",
    "y7 85 = (70+80+90+100)/4 \n",
    "\n",
    "Thus, the moving average sequence has n-k+1=10-4+1=7 values.\n",
    "\n",
    "**Question:** \n",
    "\n",
    "Write a function to find moving average in an array over a window:  \n",
    "\n",
    "Test it over [3, 5, 7, 2, 8, 10, 11, 65, 72, 81, 99, 100, 150] and window of 3. "
   ]
  },
  {
   "cell_type": "code",
   "execution_count": 9,
   "id": "2990b8ea",
   "metadata": {},
   "outputs": [],
   "source": [
    "def moving_average(lst, n=3) :\n",
    "    ret = np.cumsum(lst, dtype=float)\n",
    "    ret[n:] = ret[n:] - ret[:-n]\n",
    "    return ret[n - 1:] / n"
   ]
  },
  {
   "cell_type": "code",
   "execution_count": 10,
   "id": "00b0fc91",
   "metadata": {},
   "outputs": [
    {
     "name": "stdout",
     "output_type": "stream",
     "text": [
      "[  5.           4.66666667   5.66666667   6.66666667   9.66666667\n",
      "  28.66666667  49.33333333  72.66666667  84.          93.33333333\n",
      " 116.33333333]\n"
     ]
    }
   ],
   "source": [
    "lst = [3, 5, 7, 2, 8, 10, 11, 65, 72, 81, 99, 100, 150]\n",
    "print(moving_average(lst))"
   ]
  }
 ],
 "metadata": {
  "kernelspec": {
   "display_name": "Python 3",
   "language": "python",
   "name": "python3"
  },
  "language_info": {
   "codemirror_mode": {
    "name": "ipython",
    "version": 3
   },
   "file_extension": ".py",
   "mimetype": "text/x-python",
   "name": "python",
   "nbconvert_exporter": "python",
   "pygments_lexer": "ipython3",
   "version": "3.7.10"
  }
 },
 "nbformat": 4,
 "nbformat_minor": 5
}
